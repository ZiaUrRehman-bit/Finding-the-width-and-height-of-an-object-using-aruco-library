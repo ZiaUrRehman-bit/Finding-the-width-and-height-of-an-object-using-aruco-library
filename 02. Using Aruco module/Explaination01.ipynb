{
 "cells": [
  {
   "attachments": {},
   "cell_type": "markdown",
   "metadata": {},
   "source": [
    "#### cv2.VideoCapture\n",
    "cv2.VideoCapture is a class in the cv2 (OpenCV) library in Python that allows you to capture video from a file or a device, such as a camera. It is a powerful tool for reading video streams and can be used to process video frames in real-time.\n",
    "\n",
    "##### To use cv2.VideoCapture\n",
    "\n",
    " 1. you first need to import the cv2 library.\n",
    "\n",
    " 2. Then, you can create a cv2.VideoCapture object \n",
    "\n",
    " 3. and use its open() method to specify the source of the video, which can be a file path or a device index (for example, 0 for the default camera). \n",
    "\n",
    " 4. Once the video source is open, you can use the read() method to read and process each frame of the video \n",
    " \n",
    " 5. and the release() method and destroyAllWindows() method to close the video stream and all windows when you are done.\n",
    "\n",
    "Here is an example of how to use cv2.VideoCapture to read and display video from a file:"
   ]
  },
  {
   "cell_type": "code",
   "execution_count": 33,
   "metadata": {},
   "outputs": [],
   "source": [
    "import cv2\n",
    "\n",
    "# Create a cv2.VideoCapture object\n",
    "cap = cv2.VideoCapture(0) # for webcame write 0 \n",
    "\n",
    "# Check if the video was opened successfully\n",
    "if not cap.isOpened():\n",
    "    print(\"Error opening video file\")\n",
    "\n",
    "# Read and process each frame of the video\n",
    "while cap.isOpened():\n",
    "    # Read the next frame , return two things 1. frame, 2. boolean value(True or False)---> True when frame is \n",
    "    # successfully read, False when frame is not successfully read\n",
    "    ret, frame = cap.read()\n",
    "\n",
    "    # Check if we reached the end of the video\n",
    "    if ret == False:\n",
    "        break\n",
    "\n",
    "    # Display the frame\n",
    "    cv2.imshow(\"Frame\", frame)\n",
    "\n",
    "    # Wait for a key press\n",
    "    key = cv2.waitKey(1)\n",
    "\n",
    "    # if 'q' pressed then break the loop exit from it\n",
    "    if key == ord(\"q\"):\n",
    "        break\n",
    "\n",
    "# Release the video stream and close all windows\n",
    "cap.release()\n",
    "cv2.destroyAllWindows()\n"
   ]
  },
  {
   "attachments": {},
   "cell_type": "markdown",
   "metadata": {},
   "source": [
    "### Here is question rises, why we need while loop in above code?\n",
    "\n",
    "Let's write the same code written above without loop and see what happend "
   ]
  },
  {
   "cell_type": "code",
   "execution_count": 34,
   "metadata": {},
   "outputs": [],
   "source": [
    "import cv2\n",
    "\n",
    "# Create a cv2.VideoCapture object\n",
    "cap = cv2.VideoCapture(\"zia.mp4\")\n",
    "\n",
    "# Check if the video was opened successfully\n",
    "if not cap.isOpened():\n",
    "    print(\"Error opening video file\")\n",
    "\n",
    "# # Read and process each frame of the video\n",
    "# while cap.isOpened():\n",
    "# Read the next frame , return two things 1. frame, 2. boolean value(True or False)---> True when frame is \n",
    "# successfully read, False when frame is not successfully read\n",
    "ret, frame = cap.read()\n",
    "\n",
    "# Check if we reached the end of the video\n",
    "if not ret:\n",
    "    print(\"frame is not readed successfully\")\n",
    "\n",
    "# Display the frame\n",
    "cv2.imshow(\"Frame\", frame)\n",
    "\n",
    "# Wait for a key press\n",
    "key = cv2.waitKey()\n",
    "\n",
    "# if 'q' pressed then break the loop exit from it\n",
    "if key == ord(\"q\"):\n",
    "    \n",
    "    # Release the video stream and close all windows\n",
    "    cap.release()\n",
    "    cv2.destroyAllWindows()"
   ]
  },
  {
   "attachments": {},
   "cell_type": "markdown",
   "metadata": {},
   "source": [
    "In Frame window, you observe that there is only first frame from video is captured and readed and then shown.\n",
    "\n",
    "So, in order to read all frames from video or webcam you need a loop"
   ]
  },
  {
   "attachments": {},
   "cell_type": "markdown",
   "metadata": {},
   "source": [
    "### How we acces mobile camera\n",
    "\n",
    "1. You need to download & install Iriun Webcam application in android mobile phone( for ios, this is also available)\n",
    "    link: https://play.google.com/store/apps/details?id=com.jacksoftw.webcam&hl=en&gl=US&pli=1\n",
    "\n",
    "2. Now you need to download & install Iriun Webcam software in your PC or laptop, link: https://iriun.com/\n",
    "\n",
    "The code for this is remains same as used for accessing webcam just give the argument to cv2.VideoCapture(1)"
   ]
  },
  {
   "cell_type": "code",
   "execution_count": 36,
   "metadata": {},
   "outputs": [],
   "source": [
    "import cv2\n",
    "\n",
    "# Create a cv2.VideoCapture object\n",
    "cap = cv2.VideoCapture(1) # for mobile camera in my case address is 1\n",
    "\n",
    "# Check if the video was opened successfully\n",
    "if not cap.isOpened():\n",
    "    print(\"Error opening video file\")\n",
    "\n",
    "# Read and process each frame of the video\n",
    "while cap.isOpened():\n",
    "    # Read the next frame , return two things 1. frame, 2. boolean value(True or False)---> True when frame is \n",
    "    # successfully read, False when frame is not successfully read\n",
    "    ret, frame = cap.read()\n",
    "\n",
    "    # Check if we reached the end of the video\n",
    "    if not ret:\n",
    "        break\n",
    "\n",
    "    # Display the frame\n",
    "    cv2.imshow(\"Frame\", frame)\n",
    "\n",
    "    # Wait for a key press\n",
    "    key = cv2.waitKey(1)\n",
    "\n",
    "    # if 'q' pressed then break the loop exit from it\n",
    "    if key == ord(\"q\"):\n",
    "        break\n",
    "\n",
    "# Release the video stream and close all windows\n",
    "cap.release()\n",
    "cv2.destroyAllWindows()\n"
   ]
  },
  {
   "attachments": {},
   "cell_type": "markdown",
   "metadata": {},
   "source": [
    "### cv2.cirlce\n",
    "\n",
    "cv2.circle() is a function in the cv2 (OpenCV) library in Python that allows you to draw a circle on an image. \n",
    "\n",
    "It takes the following arguments:\n",
    "\n",
    "1. image: A numpy array representing the image on which you want to draw the circle.\n",
    "\n",
    "2. center: A tuple representing the center of the circle, given as (x, y) coordinates.\n",
    "\n",
    "3. radius: The radius of the circle.\n",
    "\n",
    "4. color: The color of the circle, given as a tuple of 3 or 4 values representing the blue, green, red, and optionally alpha channels.\n",
    "\n",
    "5. thickness: The thickness of the circle outline, in pixels. If set to -1, the circle will be filled.\n",
    "\n",
    "Here is an example of how to use cv2.circle() to draw a red, filled circle on an image:\n",
    "\n"
   ]
  },
  {
   "cell_type": "code",
   "execution_count": 41,
   "metadata": {},
   "outputs": [],
   "source": [
    "import cv2\n",
    "import numpy as np\n",
    "\n",
    "# Create a blank image\n",
    "image = np.zeros((400, 400, 3), dtype=np.uint8)\n",
    "\n",
    "width = 200\n",
    "height = 20\n",
    "radius = 50\n",
    "\n",
    "# Draw a red, filled circle on the image\n",
    "cv2.circle(image, (width, height), radius, (0, 0, 255), 6)  # -1 for filled the cirlce\n",
    "\n",
    "# Display the image\n",
    "cv2.imshow(\"Circle\", image)\n",
    "k = cv2.waitKey(0)\n",
    "\n",
    "if k == ord(\"q\"):\n",
    "    cv2.destroyAllWindows()\n"
   ]
  },
  {
   "cell_type": "code",
   "execution_count": 9,
   "metadata": {},
   "outputs": [],
   "source": [
    "cv2.destroyAllWindows()"
   ]
  },
  {
   "attachments": {},
   "cell_type": "markdown",
   "metadata": {},
   "source": [
    "You can also use cv2.circle() to draw multiple circles on an image by calling it multiple times with different arguments. \n",
    "\n",
    "For example:"
   ]
  },
  {
   "cell_type": "code",
   "execution_count": 42,
   "metadata": {},
   "outputs": [],
   "source": [
    "import cv2\n",
    "import numpy as np\n",
    "\n",
    "# Create a blank image\n",
    "image = np.zeros((400, 400, 3), dtype=np.uint8)\n",
    "\n",
    "# Draw a red circle on the image\n",
    "cv2.circle(image, (100, 100), 50, (0, 0, 255), -1)\n",
    "\n",
    "# Draw a green circle on the image\n",
    "cv2.circle(image, (300, 100), 50, (0, 255, 0), -1)\n",
    "\n",
    "# Draw a blue circle on the image\n",
    "cv2.circle(image, (200, 300), 50, (255, 0, 0), -1)\n",
    "\n",
    "# Display the image\n",
    "cv2.imshow(\"Circles\", image)\n",
    "k = cv2.waitKey()\n",
    "\n",
    "if k == ord(\"q\"):\n",
    "    cv2.destroyAllWindows()\n"
   ]
  },
  {
   "cell_type": "code",
   "execution_count": 11,
   "metadata": {},
   "outputs": [],
   "source": [
    "cv2.destroyAllWindows()"
   ]
  },
  {
   "attachments": {},
   "cell_type": "markdown",
   "metadata": {},
   "source": [
    "### Now draw the circle in side the video"
   ]
  },
  {
   "cell_type": "code",
   "execution_count": 44,
   "metadata": {},
   "outputs": [],
   "source": [
    "import cv2\n",
    "\n",
    "# Create a cv2.VideoCapture object\n",
    "cap = cv2.VideoCapture(\"zia.mp4\")\n",
    "\n",
    "# Check if the video was opened successfully\n",
    "if not cap.isOpened():\n",
    "    print(\"Error opening video file\")\n",
    "\n",
    "# Read and process each frame of the video\n",
    "while cap.isOpened():\n",
    "    # Read the next frame , return two things 1. frame, 2. boolean value(True or False)---> True when frame is \n",
    "    # successfully read, False when frame is not successfully read\n",
    "    ret, frame = cap.read()\n",
    "\n",
    "    # Check if we reached the end of the video\n",
    "    if not ret:\n",
    "        break\n",
    "\n",
    "    # Draw a blue circle on the image\n",
    "    cv2.circle(frame, (200, 300), 50, (255, 0, 0), -1) \n",
    "\n",
    "    # Display the frame\n",
    "    cv2.imshow(\"Frame\", frame)\n",
    "\n",
    "    # Wait for a key press\n",
    "    key = cv2.waitKey(1)\n",
    "\n",
    "    # if 'q' pressed then break the loop exit from it\n",
    "    if key == ord(\"q\"):\n",
    "        break\n",
    "\n",
    "# Release the video stream and close all windows\n",
    "cap.release()\n",
    "cv2.destroyAllWindows()\n"
   ]
  },
  {
   "attachments": {},
   "cell_type": "markdown",
   "metadata": {},
   "source": [
    "### what is cv2.rectangle(), and how it can used?\n",
    "\n",
    "cv2.rectangle() is a function in the OpenCV (Open Computer Vision) library, a popular library for image processing tasks in Python. It can be used to draw a rectangle on an image.\n",
    "\n",
    "The cv2.rectangle() function takes the following arguments:\n",
    "\n",
    "1. image: the image on which to draw the rectangle. This should be a 2D NumPy array with dimensions (height, width, channels).\n",
    "\n",
    "2. (10, 10) and (100, 100): these are the coordinates of the top-left and bottom-right corner of the rectangle, respectively.\n",
    "    x , y         w , h\n",
    "3. (255, 0, 0): this is the color of the rectangle, specified as a tuple of (B, G, R) values.\n",
    "\n",
    "4. 2: this is the thickness of the rectangle outline, in pixels. If you set this to a value of -1, the rectangle will be filled with the specified color."
   ]
  },
  {
   "cell_type": "code",
   "execution_count": 46,
   "metadata": {},
   "outputs": [],
   "source": [
    "import cv2\n",
    "\n",
    "# Load an image\n",
    "image = cv2.imread('1.jpeg')\n",
    "\n",
    "# Draw a rectangle on the image\n",
    "cv2.rectangle(image, (10, 10), (100, 100), (255, 0, 0), -1)  \n",
    "\n",
    "# Display the image\n",
    "cv2.imshow('Image with rectangle', image)\n",
    "cv2.waitKey(0)\n",
    "cv2.destroyAllWindows()\n"
   ]
  },
  {
   "attachments": {},
   "cell_type": "markdown",
   "metadata": {},
   "source": [
    "### Now draw the rectangle inside the video or webcam"
   ]
  },
  {
   "cell_type": "code",
   "execution_count": 50,
   "metadata": {},
   "outputs": [],
   "source": [
    "import cv2\n",
    "\n",
    "# Create a cv2.VideoCapture object\n",
    "cap = cv2.VideoCapture(\"zia.mp4\")\n",
    "\n",
    "# Check if the video was opened successfully\n",
    "if not cap.isOpened():\n",
    "    print(\"Error opening video file\")\n",
    "\n",
    "# Read and process each frame of the video\n",
    "while cap.isOpened():\n",
    "    # Read the next frame , return two things 1. frame, 2. boolean value(True or False)---> True when frame is \n",
    "    # successfully read, False when frame is not successfully read\n",
    "    ret, frame = cap.read()\n",
    "\n",
    "    # Check if we reached the end of the video\n",
    "    if not ret:\n",
    "        break\n",
    "\n",
    "    # Draw a rectangle on the frame\n",
    "    cv2.rectangle(frame, (10, 10), (100, 100), (255, 0, 0), -1)  \n",
    "\n",
    "    # Draw a rectangle on the frame\n",
    "    cv2.rectangle(frame, (200, 200), (400, 400), (255, 0, 0), -1) \n",
    "\n",
    "    # Display the frame\n",
    "    cv2.imshow(\"Frame\", frame)\n",
    "\n",
    "    # Wait for a key press\n",
    "    key = cv2.waitKey(1)\n",
    "\n",
    "    # if 'q' pressed then break the loop exit from it\n",
    "    if key == ord(\"q\"):\n",
    "        break\n",
    "\n",
    "# Release the video stream and close all windows\n",
    "cap.release()\n",
    "cv2.destroyAllWindows()\n"
   ]
  },
  {
   "attachments": {},
   "cell_type": "markdown",
   "metadata": {},
   "source": [
    "### what is cv2.line(), and how it can used?\n",
    "\n",
    "cv2.line() is a function in the OpenCV (Open Computer Vision) library that can be used to draw a line on an image.\n",
    "\n",
    "The cv2.line() function takes the following arguments:\n",
    "\n",
    "1. image: the image on which to draw the line. This should be a 2D NumPy array with dimensions (height, width, channels).\n",
    "\n",
    "2. (10, 10) and (100, 100): these are the coordinates of the start and end points of the line, respectively.\n",
    "    x , y         w , h\n",
    "    \n",
    "3. (255, 0, 0): this is the color of the line, specified as a tuple of (B, G, R) values.\n",
    "\n",
    "4. 2: this is the thickness of the line, in pixels."
   ]
  },
  {
   "cell_type": "code",
   "execution_count": 53,
   "metadata": {},
   "outputs": [],
   "source": [
    "import cv2\n",
    "\n",
    "# Load an image\n",
    "image = cv2.imread('1.jpeg')\n",
    "\n",
    "# Draw a line on the image\n",
    "cv2.line(image, (10, 10), (10, 100), (255, 0, 0), 2)\n",
    "\n",
    "# Display the image\n",
    "cv2.imshow('Image with line', image)\n",
    "cv2.waitKey(0)\n",
    "cv2.destroyAllWindows()\n"
   ]
  },
  {
   "attachments": {},
   "cell_type": "markdown",
   "metadata": {},
   "source": [
    "### Now draw the line iside the video or webcam"
   ]
  },
  {
   "cell_type": "code",
   "execution_count": 56,
   "metadata": {},
   "outputs": [],
   "source": [
    "import cv2\n",
    "\n",
    "# Create a cv2.VideoCapture object\n",
    "cap = cv2.VideoCapture(\"zia.mp4\")\n",
    "\n",
    "# Check if the video was opened successfully\n",
    "if not cap.isOpened():\n",
    "    print(\"Error opening video file\")\n",
    "\n",
    "# Read and process each frame of the video\n",
    "while cap.isOpened():\n",
    "    # Read the next frame , return two things 1. frame, 2. boolean value(True or False)---> True when frame is \n",
    "    # successfully read, False when frame is not successfully read\n",
    "    ret, frame = cap.read()\n",
    "\n",
    "    # Check if we reached the end of the video\n",
    "    if not ret:\n",
    "        break\n",
    "\n",
    "    # Draw a line on the frame\n",
    "    cv2.line(frame, (10, 10), (100, 100), (255, 200, 0), 2)\n",
    "\n",
    "    # Display the frame\n",
    "    cv2.imshow(\"Frame\", frame)\n",
    "\n",
    "    # Wait for a key press\n",
    "    key = cv2.waitKey(1)\n",
    "\n",
    "    # if 'q' pressed then break the loop exit from it\n",
    "    if key == ord(\"q\"):\n",
    "        break\n",
    "\n",
    "# Release the video stream and close all windows\n",
    "cap.release()\n",
    "cv2.destroyAllWindows()\n"
   ]
  },
  {
   "attachments": {},
   "cell_type": "markdown",
   "metadata": {},
   "source": [
    "### what is cv2.putText(), and how it can used?\n",
    "\n",
    "cv2.putText() is a function in the OpenCV (Open Computer Vision) library that can be used to draw text on an image.\n",
    "\n",
    "The cv2.putText() function takes the following arguments:\n",
    "\n",
    "1. image: the image on which to draw the text. This should be a 2D NumPy array with dimensions (height, width, channels).\n",
    "\n",
    "2. 'Hello, World!': this is the text to draw on the image.\n",
    "\n",
    "3. (10, 50): this is the coordinate of the bottom-left corner of the text.\n",
    "\n",
    "4. font: this is the font to use for the text. In this example, the cv2.FONT_HERSHEY_SIMPLEX font is used.\n",
    "\n",
    "5. 1: this is the font scale. A value of 1 means that the text will be rendered at the original size.\n",
    "\n",
    "6. (255, 255, 255): this is the color of the text, specified as a tuple of (B, G, R) values.\n",
    "\n",
    "7. 2: this is the thickness of the text, in pixels.\n",
    "\n",
    "8. cv2.LINE_AA: this is an optional parameter that specifies the type of line to use when rendering the text. cv2.LINE_AA stands for \"anti-aliased line\", which means that the text will be drawn smoothly."
   ]
  },
  {
   "cell_type": "code",
   "execution_count": 61,
   "metadata": {},
   "outputs": [],
   "source": [
    "import cv2\n",
    "\n",
    "# Load an image\n",
    "image = cv2.imread('1.jpeg')\n",
    "\n",
    "# Define the font to use\n",
    "font = cv2.FONT_HERSHEY_COMPLEX\n",
    "\n",
    "# Draw text on the image\n",
    "cv2.putText(image, 'Hello, World!', (10, 50), font, 3, (255, 255, 255), 5, cv2.LINE_AA)\n",
    "\n",
    "# Display the image\n",
    "cv2.imshow('Image with text', image)\n",
    "cv2.waitKey(0)\n",
    "cv2.destroyAllWindows()\n"
   ]
  },
  {
   "attachments": {},
   "cell_type": "markdown",
   "metadata": {},
   "source": [
    "### Now put text inside the video or webcam "
   ]
  },
  {
   "cell_type": "code",
   "execution_count": 62,
   "metadata": {},
   "outputs": [],
   "source": [
    "import cv2\n",
    "\n",
    "# Create a cv2.VideoCapture object\n",
    "cap = cv2.VideoCapture(\"zia.mp4\")\n",
    "\n",
    "# Check if the video was opened successfully\n",
    "if not cap.isOpened():\n",
    "    print(\"Error opening video file\")\n",
    "\n",
    "# Read and process each frame of the video\n",
    "while cap.isOpened():\n",
    "    # Read the next frame , return two things 1. frame, 2. boolean value(True or False)---> True when frame is \n",
    "    # successfully read, False when frame is not successfully read\n",
    "    ret, frame = cap.read()\n",
    "\n",
    "    # Check if we reached the end of the video\n",
    "    if not ret:\n",
    "        break\n",
    "\n",
    "    # Define the font to use\n",
    "    font = cv2.FONT_HERSHEY_SIMPLEX\n",
    "\n",
    "    # Draw text on the frame\n",
    "    cv2.putText(frame, 'Hello, World!', (10, 50), font, 1, (255, 255, 255), 2, cv2.LINE_AA)\n",
    "\n",
    "    # Display the frame\n",
    "    cv2.imshow(\"Frame\", frame)\n",
    "\n",
    "    # Wait for a key press\n",
    "    key = cv2.waitKey(1)\n",
    "\n",
    "    # if 'q' pressed then break the loop exit from it\n",
    "    if key == ord(\"q\"):\n",
    "        break\n",
    "\n",
    "# Release the video stream and close all windows\n",
    "cap.release()\n",
    "cv2.destroyAllWindows()\n"
   ]
  },
  {
   "attachments": {},
   "cell_type": "markdown",
   "metadata": {},
   "source": [
    "### what is cv2.minAreaRect(), and how it can used?\n",
    "\n",
    "cv2.minAreaRect() is a function in the OpenCV (Open Computer Vision) library that can be used to find the minimum area rectangle that encloses a set of points. The function returns a rotated rectangle, which is defined by the center point, size, and orientation of the rectangle."
   ]
  },
  {
   "cell_type": "code",
   "execution_count": 63,
   "metadata": {},
   "outputs": [
    {
     "name": "stdout",
     "output_type": "stream",
     "text": [
      "((55.0, 55.0), (90.0, 90.0), 90.0)\n",
      "[[ 10.  10.]\n",
      " [100.  10.]\n",
      " [100. 100.]\n",
      " [ 10. 100.]]\n"
     ]
    }
   ],
   "source": [
    "import cv2\n",
    "import numpy as np\n",
    "\n",
    "# Define a set of points\n",
    "points = np.array([[10, 10], [100, 10], [100, 100], [10, 100]], np.int32)\n",
    "\n",
    "# Find the minimum area rectangle that encloses the points\n",
    "rect = cv2.minAreaRect(points)\n",
    "print(rect)\n",
    "\n",
    "# Extract the center, size, and orientation of the rectangle\n",
    "(center_x, center_y), (width, height), angle = rect\n",
    "\n",
    "# Draw the rectangle on an image\n",
    "image = np.zeros((200, 200, 3), np.uint8)\n",
    "box = cv2.boxPoints(rect)\n",
    "print(box)\n",
    "box = np.int0(box)\n",
    "cv2.drawContours(image, [box], 0, (0, 0, 255), 2)\n",
    "\n",
    "# Display the image\n",
    "cv2.imshow('Image with rectangle', image)\n",
    "cv2.waitKey(0)\n",
    "cv2.destroyAllWindows()\n"
   ]
  },
  {
   "attachments": {},
   "cell_type": "markdown",
   "metadata": {},
   "source": [
    "In this example, points is a 2D NumPy array containing the coordinates of the points that define the region we want to enclose with a rectangle. The cv2.minAreaRect() function takes this array as an input and returns the minimum area rectangle that encloses the points.\n",
    "\n",
    "The cv2.boxPoints() function is used to convert the rotated rectangle returned by cv2.minAreaRect() into a list of points that can be used to draw the rectangle on an image using cv2.drawContours()."
   ]
  },
  {
   "attachments": {},
   "cell_type": "markdown",
   "metadata": {},
   "source": [
    "### Classes in Python\n",
    "\n",
    "Python is an object oriented programming language.\n",
    "\n",
    "Almost everything in Python is an object, with its properties and methods.\n",
    "\n",
    "A Class is like an object constructor, or a \"blueprint\" for creating objects.\n",
    "\n",
    "To create a class in Python, you use the class keyword followed by the name of the class and a colon. The class definition is then indented, and you can define various attributes and methods (functions) that belong to the class."
   ]
  },
  {
   "cell_type": "code",
   "execution_count": 65,
   "metadata": {},
   "outputs": [],
   "source": [
    "class name():\n",
    "\n",
    "    def nameWin():\n",
    "        print(\"zia\")\n",
    "\n",
    "    def abd():\n",
    "        print(\"sweden\")\n",
    "\n",
    "    def juan():\n",
    "        print(\"south\")\n"
   ]
  },
  {
   "cell_type": "code",
   "execution_count": 69,
   "metadata": {},
   "outputs": [
    {
     "name": "stdout",
     "output_type": "stream",
     "text": [
      "south\n",
      "sweden\n",
      "south\n"
     ]
    }
   ],
   "source": [
    "name.juan()\n",
    "name.abd()\n",
    "\n",
    "obj = name\n",
    "\n",
    "obj.juan()\n"
   ]
  },
  {
   "attachments": {},
   "cell_type": "markdown",
   "metadata": {},
   "source": [
    "### The __init__() Function\n",
    "\n",
    "To understand the meaning of classes we have to understand the built-in __init__() function.\n",
    "\n",
    "All classes have a function called __init__(), which is always executed when the class is being initiated.\n",
    "\n",
    "Use the __init__() function to assign values to object properties, or other operations that are necessary to do when the object is being created:"
   ]
  },
  {
   "cell_type": "code",
   "execution_count": 17,
   "metadata": {},
   "outputs": [
    {
     "name": "stdout",
     "output_type": "stream",
     "text": [
      "John\n",
      "36\n"
     ]
    }
   ],
   "source": [
    "class Person:\n",
    "    def __init__(self, name, age):\n",
    "        self.name = name\n",
    "        self.age = age\n",
    "\n",
    "    def printVal(self):\n",
    "        print(self.name)\n",
    "        print(self.age)\n",
    "\n",
    "\n",
    "\n",
    "p1 = Person(\"John\", 36)\n",
    "\n",
    "p1.printVal()"
   ]
  },
  {
   "attachments": {},
   "cell_type": "markdown",
   "metadata": {},
   "source": [
    "In Python, the self keyword is used to refer to the instance of the object itself within the body of a class method. It is equivalent to the this keyword in other object-oriented languages.\n",
    "\n",
    "Here is an example of how self is used in a class method in Python:"
   ]
  },
  {
   "cell_type": "code",
   "execution_count": 18,
   "metadata": {},
   "outputs": [
    {
     "name": "stdout",
     "output_type": "stream",
     "text": [
      "10\n"
     ]
    }
   ],
   "source": [
    "class MyClass:\n",
    "    def __init__(self, value):\n",
    "        self.value = value\n",
    "    \n",
    "    def print_value(self):\n",
    "        print(self.value)\n",
    "\n",
    "obj = MyClass(10)\n",
    "obj.print_value()  # prints 10\n"
   ]
  },
  {
   "attachments": {},
   "cell_type": "markdown",
   "metadata": {},
   "source": [
    "### 1. Make a Function to Detect Contours Using Binary Thresholding "
   ]
  },
  {
   "cell_type": "code",
   "execution_count": null,
   "metadata": {},
   "outputs": [],
   "source": []
  },
  {
   "attachments": {},
   "cell_type": "markdown",
   "metadata": {},
   "source": [
    "### 2. Make a Function to Detect Contours Using Canny filter"
   ]
  },
  {
   "cell_type": "code",
   "execution_count": null,
   "metadata": {},
   "outputs": [],
   "source": []
  },
  {
   "attachments": {},
   "cell_type": "markdown",
   "metadata": {},
   "source": [
    "### Which one is better Binary Thresholding or Canny filter"
   ]
  },
  {
   "cell_type": "code",
   "execution_count": null,
   "metadata": {},
   "outputs": [],
   "source": []
  },
  {
   "attachments": {},
   "cell_type": "markdown",
   "metadata": {},
   "source": [
    "### Now make class with name MyDetectionMethods and include the above created function in it"
   ]
  },
  {
   "cell_type": "code",
   "execution_count": null,
   "metadata": {},
   "outputs": [],
   "source": []
  },
  {
   "attachments": {},
   "cell_type": "markdown",
   "metadata": {},
   "source": [
    "### Aruco Library "
   ]
  },
  {
   "cell_type": "markdown",
   "metadata": {},
   "source": []
  },
  {
   "attachments": {},
   "cell_type": "markdown",
   "metadata": {},
   "source": [
    "#### cv.aruco.DetectorParameters_create()"
   ]
  },
  {
   "cell_type": "code",
   "execution_count": null,
   "metadata": {},
   "outputs": [],
   "source": []
  },
  {
   "attachments": {},
   "cell_type": "markdown",
   "metadata": {},
   "source": [
    "#### cv.aruco.Dictionary_get(cv.aruco.DICT_5X5_50)"
   ]
  },
  {
   "cell_type": "markdown",
   "metadata": {},
   "source": []
  }
 ],
 "metadata": {
  "kernelspec": {
   "display_name": "Python 3",
   "language": "python",
   "name": "python3"
  },
  "language_info": {
   "codemirror_mode": {
    "name": "ipython",
    "version": 3
   },
   "file_extension": ".py",
   "mimetype": "text/x-python",
   "name": "python",
   "nbconvert_exporter": "python",
   "pygments_lexer": "ipython3",
   "version": "3.9.1"
  },
  "orig_nbformat": 4,
  "vscode": {
   "interpreter": {
    "hash": "b671c20432fcd147198c92e7f072af9e705f087eb990bee22b07f08caab9f630"
   }
  }
 },
 "nbformat": 4,
 "nbformat_minor": 2
}
